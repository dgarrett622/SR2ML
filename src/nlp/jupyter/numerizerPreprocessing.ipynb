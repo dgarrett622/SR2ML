{
 "cells": [
  {
   "cell_type": "markdown",
   "id": "57e9345f",
   "metadata": {},
   "source": [
    "# numerizer Preprocessing\n",
    "The numerizer package converts natural language numerics into ints and floats. The package does not have a lot of documentation, but seems simple to use.\n",
    "\n",
    "See also:\n",
    "\n",
    "https://github.com/jaidevd/numerizer"
   ]
  },
  {
   "cell_type": "markdown",
   "id": "a91180aa",
   "metadata": {},
   "source": [
    "## numerizer Acting on Strings"
   ]
  },
  {
   "cell_type": "code",
   "execution_count": 1,
   "id": "d84aa254",
   "metadata": {},
   "outputs": [
    {
     "name": "stdout",
     "output_type": "stream",
     "text": [
      "42\n",
      "42\n",
      "462\n",
      "150\n",
      "1200\n",
      "21473\n",
      "1000000001\n",
      "9.75\n",
      "platform 9.75\n"
     ]
    }
   ],
   "source": [
    "from numerizer import numerize\n",
    "\n",
    "print(numerize('forty two'))\n",
    "print(numerize('forty-two'))\n",
    "print(numerize('four hundred and sixty two'))\n",
    "print(numerize('one fifty'))\n",
    "print(numerize('twelve hundred'))\n",
    "print(numerize('twenty one thousand four hundred and seventy three'))\n",
    "print(numerize('one billion and one'))\n",
    "print(numerize('nine and three quarters'))\n",
    "print(numerize('platform nine and three quarters'))"
   ]
  },
  {
   "cell_type": "markdown",
   "id": "4822daa6",
   "metadata": {},
   "source": [
    "## numerizer as SpaCy Extenstion"
   ]
  },
  {
   "cell_type": "code",
   "execution_count": 2,
   "id": "1ebc95bb",
   "metadata": {},
   "outputs": [],
   "source": [
    "import spacy\n",
    "nlp = spacy.load('en_core_web_sm')\n",
    "doc = nlp('The projected revenue for the next quarter is over two million dollars.')\n"
   ]
  },
  {
   "cell_type": "code",
   "execution_count": 3,
   "id": "7fa748f8",
   "metadata": {},
   "outputs": [
    {
     "data": {
      "text/plain": [
       "{the next quarter: 'the next1/4',\n",
       " over two million dollars: 'over 2000000 dollars'}"
      ]
     },
     "execution_count": 3,
     "metadata": {},
     "output_type": "execute_result"
    }
   ],
   "source": [
    "doc._.numerize()"
   ]
  },
  {
   "cell_type": "code",
   "execution_count": 4,
   "id": "37bfdbd9",
   "metadata": {},
   "outputs": [
    {
     "data": {
      "text/plain": [
       "{over two million dollars: 'over 2000000 dollars'}"
      ]
     },
     "execution_count": 4,
     "metadata": {},
     "output_type": "execute_result"
    }
   ],
   "source": [
    "doc._.numerize(labels=['MONEY'])"
   ]
  },
  {
   "cell_type": "code",
   "execution_count": 5,
   "id": "bf6b8220",
   "metadata": {},
   "outputs": [
    {
     "data": {
      "text/plain": [
       "'2000000'"
      ]
     },
     "execution_count": 5,
     "metadata": {},
     "output_type": "execute_result"
    }
   ],
   "source": [
    "two_million = doc[-4:-2]\n",
    "two_million._.numerize()"
   ]
  },
  {
   "cell_type": "code",
   "execution_count": 6,
   "id": "3f0b6a39",
   "metadata": {},
   "outputs": [
    {
     "data": {
      "text/plain": [
       "'1/4'"
      ]
     },
     "execution_count": 6,
     "metadata": {},
     "output_type": "execute_result"
    }
   ],
   "source": [
    "quarter = doc[6]\n",
    "quarter._.numerized"
   ]
  }
 ],
 "metadata": {
  "hide_input": false,
  "kernelspec": {
   "display_name": "nlp",
   "language": "python",
   "name": "nlp"
  },
  "language_info": {
   "codemirror_mode": {
    "name": "ipython",
    "version": 3
   },
   "file_extension": ".py",
   "mimetype": "text/x-python",
   "name": "python",
   "nbconvert_exporter": "python",
   "pygments_lexer": "ipython3",
   "version": "3.9.5"
  }
 },
 "nbformat": 4,
 "nbformat_minor": 5
}
