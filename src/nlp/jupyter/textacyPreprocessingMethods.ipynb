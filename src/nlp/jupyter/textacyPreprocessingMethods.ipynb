{
 "cells": [
  {
   "cell_type": "markdown",
   "id": "c7a1cf17",
   "metadata": {},
   "source": [
    "# textacy Preprocessing Methods for NLP\n",
    "The textacy package normalizes, removes, or replaces problematic characters in text. The preprocessing is operated on raw text. A convenience method for creating a pipeline of multiple preprocessing operations is available. \n",
    "\n",
    "The text used in each section is copied directly from the textacy unit tests."
   ]
  },
  {
   "cell_type": "code",
   "execution_count": 1,
   "id": "8fc68d30",
   "metadata": {},
   "outputs": [],
   "source": [
    "import textacy.preprocessing as preprocessing"
   ]
  },
  {
   "cell_type": "markdown",
   "id": "f340fc4d",
   "metadata": {},
   "source": [
    "### Normalize bullet points\n",
    "No optional parameters."
   ]
  },
  {
   "cell_type": "code",
   "execution_count": 2,
   "id": "1a1d9204",
   "metadata": {},
   "outputs": [
    {
     "name": "stdout",
     "output_type": "stream",
     "text": [
      "- foo\n",
      "- bar\n",
      "- foo\n",
      "    - bar\n",
      "- item1\n",
      "- item2\n",
      "- item3\n",
      "- item4\n",
      "- item5\n",
      "- item6\n",
      "- item7\n",
      "- item8\n",
      "- item1\n",
      "- item2\n",
      "- item3\n"
     ]
    }
   ],
   "source": [
    "text = (\"• foo\\n• bar\\n\"\n",
    "        \"• foo\\n    • bar\"\n",
    "        \"\\n‣ item1\\n⁃ item2\\n⁌ item3\\n⁍ item4\\n∙ item5\\n▪ item6\\n● item7\\n◦ item8\"\n",
    "        \"\\n⦾ item1\\n⦿ item2\\n・ item3\"\n",
    ")\n",
    "bp_text = preprocessing.normalize.bullet_points(text)\n",
    "print(bp_text)"
   ]
  },
  {
   "cell_type": "markdown",
   "id": "2eee3278",
   "metadata": {},
   "source": [
    "### Normalize hyphenated words\n",
    "No optional parameters."
   ]
  },
  {
   "cell_type": "code",
   "execution_count": 3,
   "id": "db319871",
   "metadata": {},
   "outputs": [
    {
     "name": "stdout",
     "output_type": "stream",
     "text": [
      "I see you shiver with anticipation.\n",
      "I see you shiver with anticipation.\n",
      "I see you shiver with anticiPATION.\n",
      "I see you shiver with antici- 1pation.\n",
      "I see you shiver with antici pation.\n",
      "I see you shiver with antici-pation.\n",
      "My phone number is 555- 1234.\n",
      "I got an A- on the test.\n"
     ]
    }
   ],
   "source": [
    "text = (\"I see you shiver with antici- pation.\\n\"\n",
    "        \"I see you shiver with antici-   \\npation.\\n\"\n",
    "        \"I see you shiver with antici- PATION.\\n\"\n",
    "        \"I see you shiver with antici- 1pation.\\n\"\n",
    "        \"I see you shiver with antici pation.\\n\"\n",
    "        \"I see you shiver with antici-pation.\\n\"\n",
    "        \"My phone number is 555- 1234.\\n\"\n",
    "        \"I got an A- on the test.\"\n",
    ")\n",
    "hypen_text = preprocessing.normalize.hyphenated_words(text)\n",
    "print(hypen_text)"
   ]
  },
  {
   "cell_type": "markdown",
   "id": "26430424",
   "metadata": {},
   "source": [
    "### Normalize quotation marks\n",
    "No optional parameters."
   ]
  },
  {
   "cell_type": "code",
   "execution_count": 4,
   "id": "0e0aed4d",
   "metadata": {},
   "outputs": [
    {
     "name": "stdout",
     "output_type": "stream",
     "text": [
      "These are 'funny single quotes'.\n",
      "These are 'fancy single quotes'.\n",
      "These are \"fancy double quotes\".\n"
     ]
    }
   ],
   "source": [
    "text = (\"These are ´funny single quotes´.\\n\"\n",
    "        \"These are ‘fancy single quotes’.\\n\"\n",
    "        \"These are “fancy double quotes”.\"\n",
    ")\n",
    "quote_text = preprocessing.normalize.quotation_marks(text)\n",
    "print(quote_text)"
   ]
  },
  {
   "cell_type": "markdown",
   "id": "398bb00f",
   "metadata": {},
   "source": [
    "### Normalize repeating characters\n",
    "Optional parameters:\n",
    "- chars: string, characters that are repeated\n",
    "- maxn: int, number of allowable character repeats"
   ]
  },
  {
   "cell_type": "code",
   "execution_count": 5,
   "id": "bb7fd77b",
   "metadata": {},
   "outputs": [
    {
     "name": "stdout",
     "output_type": "stream",
     "text": [
      "**Hello**, world!!! I wonder... How are *you* doing?!?! lololol\n",
      "*Hello*, world!!! I wonder....... How are *you* doing?!?! lololol\n",
      "**Hello**, world!!! I wonder....... How are *you* doing?! lololol\n",
      "**Hello**, world!!! I wonder....... How are *you* doing?!?! lolol\n",
      "Hello, world!!! I wonder....... How are you doing?!?! lololol\n"
     ]
    }
   ],
   "source": [
    "text = \"**Hello**, world!!! I wonder....... How are *you* doing?!?! lololol\"\n",
    "repeating_text1 = preprocessing.normalize.repeating_chars(text, chars=\".\", maxn=3)\n",
    "print(repeating_text1)\n",
    "repeating_text2 = preprocessing.normalize.repeating_chars(text, chars=\"*\", maxn=1)\n",
    "print(repeating_text2)\n",
    "repeating_text3 = preprocessing.normalize.repeating_chars(text, chars=\"?!\", maxn=1)\n",
    "print(repeating_text3)\n",
    "repeating_text4 = preprocessing.normalize.repeating_chars(text, chars=\"ol\", maxn=2)\n",
    "print(repeating_text4)\n",
    "repeating_text5 = preprocessing.normalize.repeating_chars(text, chars=\"*\", maxn=0)\n",
    "print(repeating_text5)"
   ]
  },
  {
   "cell_type": "markdown",
   "id": "56c4b979",
   "metadata": {},
   "source": [
    "### Normalize unicode\n",
    "Optional parameters:\n",
    "- form: str\n",
    "    - NFC: canonical composition\n",
    "    - NFD: canonical decomposition\n",
    "    - NFKC: compatibility decomposition\n",
    "    - NFKD: compatibility decomposition followed by canonical composition\n",
    "\n",
    "See also:\n",
    "\n",
    "https://docs.python.org/3/library/unicodedata.html#unicodedata.normalize"
   ]
  },
  {
   "cell_type": "code",
   "execution_count": 6,
   "id": "7cf3884c",
   "metadata": {},
   "outputs": [
    {
     "name": "stdout",
     "output_type": "stream",
     "text": [
      "Well... That's a long story.\n"
     ]
    }
   ],
   "source": [
    "text = \"Well… That's a long story.\"\n",
    "unicode_text = preprocessing.normalize.unicode(text, form=\"NFKC\")\n",
    "print(unicode_text)"
   ]
  },
  {
   "cell_type": "markdown",
   "id": "dda154c5",
   "metadata": {},
   "source": [
    "### Normalize whitespace\n",
    "No optional parameters."
   ]
  },
  {
   "cell_type": "code",
   "execution_count": 7,
   "id": "e547f6c1",
   "metadata": {},
   "outputs": [
    {
     "name": "stdout",
     "output_type": "stream",
     "text": [
      "Hello, world!\n",
      "Hello, world!\n",
      "Hello, world!\n",
      "Hello, world!\n",
      "Hello,\n",
      "world!\n",
      "Hello,\n",
      "world!\n",
      "Hello, world!\n",
      "Hello, world!\n",
      "Hello,\n",
      "world !\n"
     ]
    }
   ],
   "source": [
    "text = (\"Hello,  world!\\n\"\n",
    "        \"Hello,     world!\\n\"\n",
    "        \"Hello,\\tworld!\\n\"\n",
    "        \"Hello,\\t\\t  world!\\n\"\n",
    "        \"Hello,\\n\\nworld!\\n\"\n",
    "        \"Hello,\\r\\nworld!\\n\"\n",
    "        \"Hello\\uFEFF, world!\\n\"\n",
    "        \"Hello\\u200B\\u200B, world!\\n\"\n",
    "        \"Hello\\uFEFF,\\n\\n\\nworld   !  \"\n",
    ")\n",
    "whitespace_text = preprocessing.normalize.whitespace(text)\n",
    "print(whitespace_text)"
   ]
  },
  {
   "cell_type": "markdown",
   "id": "6daeb1e6",
   "metadata": {},
   "source": [
    "### Remove accents\n",
    "Optional parameter:\n",
    "- fast: bool\n",
    "    - True: accented characters for all unicode symbols are removed\n",
    "    - False: accents removed from unicode symbol with a direct ASCII equivalent"
   ]
  },
  {
   "cell_type": "code",
   "execution_count": 8,
   "id": "8a2dc483",
   "metadata": {},
   "outputs": [
    {
     "name": "stdout",
     "output_type": "stream",
     "text": [
      "El nino se asusto del pinguino -- que miedo!\n",
      "El nino se asusto del pinguino -- que miedo!\n",
      "Le garcon est tres excite pour la foret.\n",
      "Le garcon est tres excite pour la foret.\n",
      "El nino se asusto del pinguino -- que miedo!\n",
      "El nino se asusto del pinguino -- que miedo!\n",
      "Le garcon est tres excite pour la foret.\n",
      "Le garcon est tres excite pour la foret.\n"
     ]
    }
   ],
   "source": [
    "text = (\"El niño se asustó del pingüino -- qué miedo!\\n\"\n",
    "        \"El niño se asustó del pingüino -- qué miedo!\\n\"\n",
    "        \"Le garçon est très excité pour la forêt.\\n\"\n",
    "        \"Le garçon est très excité pour la forêt.\"\n",
    ")\n",
    "accent_text1 = preprocessing.remove.accents(text, fast=True)\n",
    "print(accent_text1)\n",
    "accent_text2 = preprocessing.remove.accents(text, fast=False)\n",
    "print(accent_text2)"
   ]
  },
  {
   "cell_type": "markdown",
   "id": "6d6daf79",
   "metadata": {},
   "source": [
    "### Remove brackets\n",
    "Careful here, all text between brackets is removed along with the brackets.\n",
    "\n",
    "Optional parameter:\n",
    "- only: tuple, str - remove only the specified bracketed contents: \"curly\", \"square\", and/or \"round\""
   ]
  },
  {
   "cell_type": "code",
   "execution_count": 9,
   "id": "669599df",
   "metadata": {},
   "outputs": [
    {
     "name": "stdout",
     "output_type": "stream",
     "text": [
      "Hello, !\n",
      "Hello, world !\n",
      "Hello, world !\n",
      "Hello, world !\n",
      "Hello, world !\n",
      "Hello, world (and whomever it may concern )!\n",
      "Hello, world !\n",
      "Hello, world !\n",
      "Hello, world !\n",
      "Hello, {name}!\n",
      "Hello, world !\n",
      "Hello, world !\n",
      "Hello, world [1]!\n",
      "Hello, world !\n",
      "Hello, world (and whomever it may concern )!\n",
      "Hello, world !\n",
      "Hello, world [1]!\n",
      "Hello, world [1]!\n",
      "Hello, !\n",
      "Hello, world (DeWilde et al., 2021, p. 42)!\n",
      "Hello, world (1)!\n",
      "Hello, world [1]!\n",
      "Hello, world (and whomever it may concern [not that it's any of my business])!\n",
      "Hello, world (and whomever it may concern (not that it's any of my business))!\n",
      "Hello, world (and whomever it may concern [not that it's any of my business])!\n",
      "Hello, world [1]!\n",
      "Hello, world [1]!\n",
      "Hello, {name}!\n",
      "Hello, world (DeWilde et al., 2021, p. 42)!\n",
      "Hello, world (1)!\n",
      "Hello, world !\n",
      "Hello, world (and whomever it may concern )!\n",
      "Hello, world (and whomever it may concern (not that it's any of my business))!\n",
      "Hello, world (and whomever it may concern )!\n",
      "Hello, world !\n",
      "Hello, world !\n",
      "Hello, {name}!\n",
      "Hello, world !\n",
      "Hello, world !\n",
      "Hello, world !\n",
      "Hello, world !\n",
      "Hello, world (and whomever it may concern )!\n",
      "Hello, world !\n",
      "Hello, world !\n",
      "Hello, world !\n"
     ]
    }
   ],
   "source": [
    "text = (\"Hello, {name}!\\n\"\n",
    "        \"Hello, world (DeWilde et al., 2021, p. 42)!\\n\"\n",
    "        \"Hello, world (1)!\\n\"\n",
    "        \"Hello, world [1]!\\n\"\n",
    "        \"Hello, world (and whomever it may concern [not that it's any of my business])!\\n\"\n",
    "        \"Hello, world (and whomever it may concern (not that it's any of my business))!\\n\"\n",
    "        \"Hello, world (and whomever it may concern [not that it's any of my business])!\\n\"\n",
    "        \"Hello, world [1]!\\n\"\n",
    "        \"Hello, world [1]!\"\n",
    ")\n",
    "bracket_text1 = preprocessing.remove.brackets(text, only=None)\n",
    "print(bracket_text1)\n",
    "bracket_text2 = preprocessing.remove.brackets(text, only=\"round\")\n",
    "print(bracket_text2)\n",
    "bracket_text3 = preprocessing.remove.brackets(text, only=\"curly\")\n",
    "print(bracket_text3)\n",
    "bracket_text4 = preprocessing.remove.brackets(text, only=\"square\")\n",
    "print(bracket_text4)\n",
    "bracket_text5 = preprocessing.remove.brackets(text, only=(\"square\", \"round\"))\n",
    "print(bracket_text5)"
   ]
  },
  {
   "cell_type": "markdown",
   "id": "13ee3763",
   "metadata": {},
   "source": [
    "### Remove HTML tags\n",
    "No optional parameters."
   ]
  },
  {
   "cell_type": "code",
   "execution_count": 10,
   "id": "fd4e931e",
   "metadata": {},
   "outputs": [
    {
     "name": "stdout",
     "output_type": "stream",
     "text": [
      "Hello, world!\n",
      "Hello, world!\n",
      "Hello, world!\n",
      "Hello, world!\n",
      "\n",
      "  \n",
      "    Hello, world!\n",
      "  \n",
      "  \n",
      "  \n",
      "    How's it going?\n"
     ]
    }
   ],
   "source": [
    "text = (\"Hello, <i>world!</i>\\n\"\n",
    "        \"<title>Hello, world!</title>\\n\"\n",
    "        '<title class=\"foo\">Hello, world!</title>\\n'\n",
    "        \"<html><head><title>Hello, <i>world!</i></title></head></html>\\n\"\n",
    "            \"<html>\\n\"\n",
    "            \"  <head>\\n\"\n",
    "            '    <title class=\"foo\">Hello, <i>world!</i></title>\\n'\n",
    "            \"  </head>\\n\"\n",
    "            \"  <!--this is a comment-->\\n\"\n",
    "            \"  <body>\\n\"\n",
    "            \"    <p>How's it going?</p>\\n\"\n",
    "            \"  </body>\\n\"\n",
    "            \"</html>\"\n",
    ")\n",
    "html_text = preprocessing.remove.html_tags(text)\n",
    "print(html_text)"
   ]
  },
  {
   "cell_type": "markdown",
   "id": "aac2e53c",
   "metadata": {},
   "source": [
    "### Remove punctuation\n",
    "Optional parameter:\n",
    "- only: str, tuple, list - remove only the punctuation marks specified"
   ]
  },
  {
   "cell_type": "code",
   "execution_count": 11,
   "id": "aea659ea",
   "metadata": {},
   "outputs": [
    {
     "name": "stdout",
     "output_type": "stream",
     "text": [
      "I can t  No  I won t  It s a matter of  principle   of    what s the word     conscience \n",
      "I can't  No, I won't! It's a matter of \"principle\"; of -- what's the word? -- conscience \n",
      "I can t. No, I won t! It s a matter of  principle ; of   what s the word?   conscience.\n"
     ]
    }
   ],
   "source": [
    "text = \"I can't. No, I won't! It's a matter of \\\"principle\\\"; of -- what's the word? -- conscience.\"\n",
    "punc_text1 = preprocessing.remove.punctuation(text, only=None)\n",
    "print(punc_text1)\n",
    "punc_text2 = preprocessing.remove.punctuation(text, only=\".\")\n",
    "print(punc_text2)\n",
    "punc_text3 = preprocessing.remove.punctuation(text, only=[\"-\", \"'\", \"\\\"\"])\n",
    "print(punc_text3)"
   ]
  },
  {
   "cell_type": "markdown",
   "id": "718e4638",
   "metadata": {},
   "source": [
    "### Replace currency symbols\n",
    "Optional parameter:\n",
    "- repl: str, value to replace currency symbols, default \\_CUR\\_"
   ]
  },
  {
   "cell_type": "code",
   "execution_count": 12,
   "id": "4e6d48a4",
   "metadata": {},
   "outputs": [
    {
     "name": "stdout",
     "output_type": "stream",
     "text": [
      "_CUR_1.00 equals 100_CUR_.\n",
      "How much is _CUR_100 in _CUR_?\n",
      "My password is 123_CUR_abc_CUR_.\n"
     ]
    }
   ],
   "source": [
    "text = (\"$1.00 equals 100¢.\\n\"\n",
    "        \"How much is ¥100 in £?\\n\"\n",
    "        \"My password is 123$abc฿.\"\n",
    ")\n",
    "curr_text = preprocessing.replace.currency_symbols(text)\n",
    "print(curr_text)"
   ]
  },
  {
   "cell_type": "markdown",
   "id": "afa1b1b9",
   "metadata": {},
   "source": [
    "### Replace email addresses\n",
    "Optional parameter:\n",
    "- repl: str, text to replace email address, default \\_EMAIL\\_"
   ]
  },
  {
   "cell_type": "code",
   "execution_count": 13,
   "id": "c258735a",
   "metadata": {},
   "outputs": [
    {
     "name": "stdout",
     "output_type": "stream",
     "text": [
      "Reach out at _EMAIL_.\n",
      "Click here: _EMAIL_.\n"
     ]
    }
   ],
   "source": [
    "text = (\"Reach out at username@example.com.\\n\"\n",
    "        \"Click here: mailto:username@example.com.\"\n",
    ")\n",
    "email_text = preprocessing.replace.emails(text)\n",
    "print(email_text)"
   ]
  },
  {
   "cell_type": "markdown",
   "id": "9d6d6651",
   "metadata": {},
   "source": [
    "### Replace emoji\n",
    "Optional parameter:\n",
    "- repl: str, text to replace emoji and pictographs, default \\_EMOJI\\_"
   ]
  },
  {
   "cell_type": "code",
   "execution_count": 14,
   "id": "acd8fb74",
   "metadata": {},
   "outputs": [
    {
     "name": "stdout",
     "output_type": "stream",
     "text": [
      "ugh, it's raining *again* _EMOJI_\n",
      "_EMOJI_ tests are passing _EMOJI_\n"
     ]
    }
   ],
   "source": [
    "text = (\"ugh, it's raining *again* ☔\\n\"\n",
    "        \"✌ tests are passing ✌\"\n",
    ")\n",
    "emoji_text = preprocessing.replace.emojis(text)\n",
    "print(emoji_text)"
   ]
  },
  {
   "cell_type": "markdown",
   "id": "27c19d34",
   "metadata": {},
   "source": [
    "### Replace hashtags\n",
    "Optional parameter:\n",
    "- repl: str, text to replace hashtags, default \\_TAG\\_"
   ]
  },
  {
   "cell_type": "code",
   "execution_count": 15,
   "id": "60bb309f",
   "metadata": {},
   "outputs": [
    {
     "name": "stdout",
     "output_type": "stream",
     "text": [
      "like omg it's _TAG_\n",
      "_TAG_: \"but it's honest work\"\n",
      "wth twitter _TAG_'teven _TAG_-even-try\n",
      "www.foo.com#fragment is not a hashtag\n"
     ]
    }
   ],
   "source": [
    "text = (\"like omg it's #ThrowbackThursday\\n\"\n",
    "        \"#TextacyIn4Words: \\\"but it's honest work\\\"\\n\"\n",
    "        \"wth twitter #ican'teven #why-even-try\\n\"\n",
    "        \"www.foo.com#fragment is not a hashtag\"\n",
    ")\n",
    "hash_text = preprocessing.replace.hashtags(text)\n",
    "print(hash_text)"
   ]
  },
  {
   "cell_type": "markdown",
   "id": "b954cbbf",
   "metadata": {},
   "source": [
    "### Replace numbers\n",
    "Optional parameter:\n",
    "- repl: str, text to replace numbers, default \\_NUMBER\\_"
   ]
  },
  {
   "cell_type": "code",
   "execution_count": 16,
   "id": "f0c9c28e",
   "metadata": {},
   "outputs": [
    {
     "name": "stdout",
     "output_type": "stream",
     "text": [
      "I owe $_NUMBER_ to _NUMBER_ people for _NUMBER_ _NUMBER_ reasons.\n"
     ]
    }
   ],
   "source": [
    "text = \"I owe $1,000.99 to 123 people for 2 +1 reasons.\"\n",
    "num_text = preprocessing.replace.numbers(text)\n",
    "print(num_text)"
   ]
  },
  {
   "cell_type": "markdown",
   "id": "4d84b585",
   "metadata": {},
   "source": [
    "### Replace phone numbers\n",
    "Optional parameter:\n",
    "- repl: str, text to replace phone numbers, default \\_PHONE\\_"
   ]
  },
  {
   "cell_type": "code",
   "execution_count": 17,
   "id": "f7526f5c",
   "metadata": {},
   "outputs": [
    {
     "name": "stdout",
     "output_type": "stream",
     "text": [
      "I can be reached at _PHONE_ through next Friday.\n"
     ]
    }
   ],
   "source": [
    "text = \"I can be reached at 555-123-4567 through next Friday.\"\n",
    "phone_text = preprocessing.replace.phone_numbers(text)\n",
    "print(phone_text)"
   ]
  },
  {
   "cell_type": "markdown",
   "id": "253becc1",
   "metadata": {},
   "source": [
    "### Replace URLs\n",
    "Optional parameter:\n",
    "- repl: str, text to replace URL, default \\_URL\\_"
   ]
  },
  {
   "cell_type": "code",
   "execution_count": 18,
   "id": "c5ee3b3d",
   "metadata": {},
   "outputs": [
    {
     "name": "stdout",
     "output_type": "stream",
     "text": [
      "I learned everything I know from _URL_ and _URL_ and Mom.\n"
     ]
    }
   ],
   "source": [
    "text = \"I learned everything I know from www.stackoverflow.com and http://wikipedia.org/ and Mom.\"\n",
    "url_text = preprocessing.replace.urls(text)\n",
    "print(url_text)"
   ]
  },
  {
   "cell_type": "markdown",
   "id": "7c49903a",
   "metadata": {},
   "source": [
    "### Replace user handles\n",
    "Optional parameter:\n",
    "- repl: str, text to replace user handles, default \\_USER\\_"
   ]
  },
  {
   "cell_type": "code",
   "execution_count": 19,
   "id": "c53b4975",
   "metadata": {},
   "outputs": [
    {
     "name": "stdout",
     "output_type": "stream",
     "text": [
      "like omg it's _USER_\n",
      "_USER_: definitely not a bot\n",
      "wth twitter _USER_.j.dewilde\n",
      "foo@bar.com is not a user handle\n"
     ]
    }
   ],
   "source": [
    "text = (\"like omg it's @bjdewilde\\n\"\n",
    "        \"@Real_Burton_DeWilde: definitely not a bot\\n\"\n",
    "        \"wth twitter @b.j.dewilde\\n\"\n",
    "        \"foo@bar.com is not a user handle\"\n",
    ")\n",
    "user_text = preprocessing.replace.user_handles(text)\n",
    "print(user_text)"
   ]
  },
  {
   "cell_type": "markdown",
   "id": "4881d01e",
   "metadata": {},
   "source": [
    "### Combining into a pipeline"
   ]
  },
  {
   "cell_type": "code",
   "execution_count": 20,
   "id": "3d8864d8",
   "metadata": {},
   "outputs": [
    {
     "name": "stdout",
     "output_type": "stream",
     "text": [
      "- foo\n",
      "- bar\n",
      "- foo\n",
      " - bar\n",
      "- item1\n",
      "- item2\n",
      "- item3\n",
      "- item4\n",
      "- item5\n",
      "- item6\n",
      "- item7\n",
      "- item8\n",
      "- item1\n",
      "- item2\n",
      "- item3\n",
      "I see you shiver with anticipation.\n",
      "I see you shiver with anticipation.\n",
      "I see you shiver with anticiPATION.\n",
      "I see you shiver with antici- 1pation.\n",
      "I see you shiver with antici pation.\n",
      "I see you shiver with antici-pation.\n",
      "My phone number is _NUMBER_- _NUMBER_.\n",
      "I got an A- on the test.\n",
      "These are 'funny single quotes'.\n",
      "These are 'fancy single quotes'.\n",
      "These are  fancy double quotes .\n",
      "**Hello**, world!!! I wonder... How are *you* doing?!?! lololol\n",
      "Hello, world!\n",
      "Hello, world!\n",
      "Hello, world!\n",
      "Hello, world!\n",
      "Hello,\n",
      "world!\n",
      "Hello,\n",
      "world!\n",
      "Hello, world!\n",
      "Hello, world!\n",
      "Hello,\n",
      "world ! \n",
      "El nino se asusto del pinguino -- que miedo!\n",
      "El nino se asusto del pinguino -- que miedo!\n",
      "Le garcon est tres excite pour la foret.\n",
      "Le garcon est tres excite pour la foret.\n",
      "Hello, {name}!\n",
      "Hello, world (DeWilde et al., _NUMBER_, p. _NUMBER_)!\n",
      "Hello, world (_NUMBER_)!\n",
      "Hello, world !\n",
      "Hello, world (and whomever it may concern )!\n",
      "Hello, world (and whomever it may concern (not that it's any of my business))!\n",
      "Hello, world (and whomever it may concern )!\n",
      "Hello, world !\n",
      "Hello, world !\n",
      "Hello, world!\n",
      "Hello, world!\n",
      "Hello, world!\n",
      "Hello, world!\n",
      "\n",
      " \n",
      " Hello, world!\n",
      " \n",
      " \n",
      " \n",
      " How's it going?\n",
      " \n",
      "\n",
      "I can't. No, I won't! It's a matter of  principle ; of -- what's the word? -- conscience.\n",
      "_CUR_1.00 equals _NUMBER_.\n",
      "How much is _NUMBER_ in ?\n",
      "My password is 123_CUR_abc.\n",
      "Reach out at _EMAIL_.\n",
      "Click here: _EMAIL_.\n",
      "ugh, it's raining *again* \n",
      " tests are passing \n",
      "like omg it's _TAG_\n",
      "_TAG_:  but it's honest work \n",
      "wth twitter _TAG_'teven _TAG_-even-try\n",
      "_URL_#fragment is not a hashtag\n",
      "I owe _CUR_1,000.99 to _NUMBER_ people for _NUMBER_ _NUMBER_ reasons.\n",
      "I can be reached at _NUMBER_-_NUMBER_-_NUMBER_ through next Friday.\n",
      "I learned everything I know from _URL_ and _URL_ and Mom.\n",
      "like omg it's _USER_\n",
      "_USER_: definitely not a bot\n",
      "wth twitter _USER_.j.dewilde\n",
      "_EMAIL_ is not a user handle\n"
     ]
    }
   ],
   "source": [
    "from functools import partial\n",
    "all_text = (\"• foo\\n• bar\\n\"\n",
    "            \"• foo\\n    • bar\"\n",
    "            \"\\n‣ item1\\n⁃ item2\\n⁌ item3\\n⁍ item4\\n∙ item5\\n▪ item6\\n● item7\\n◦ item8\"\n",
    "            \"\\n⦾ item1\\n⦿ item2\\n・ item3\\n\"\n",
    "            \"I see you shiver with antici- pation.\\n\"\n",
    "            \"I see you shiver with antici-   \\npation.\\n\"\n",
    "            \"I see you shiver with antici- PATION.\\n\"\n",
    "            \"I see you shiver with antici- 1pation.\\n\"\n",
    "            \"I see you shiver with antici pation.\\n\"\n",
    "            \"I see you shiver with antici-pation.\\n\"\n",
    "            \"My phone number is 555- 1234.\\n\"\n",
    "            \"I got an A- on the test.\\n\"\n",
    "            \"These are ´funny single quotes´.\\n\"\n",
    "            \"These are ‘fancy single quotes’.\\n\"\n",
    "            \"These are “fancy double quotes”.\\n\"\n",
    "            \"**Hello**, world!!! I wonder....... How are *you* doing?!?! lololol\\n\"\n",
    "            \"Hello,  world!\\n\"\n",
    "            \"Hello,     world!\\n\"\n",
    "            \"Hello,\\tworld!\\n\"\n",
    "            \"Hello,\\t\\t  world!\\n\"\n",
    "            \"Hello,\\n\\nworld!\\n\"\n",
    "            \"Hello,\\r\\nworld!\\n\"\n",
    "            \"Hello\\uFEFF, world!\\n\"\n",
    "            \"Hello\\u200B\\u200B, world!\\n\"\n",
    "            \"Hello\\uFEFF,\\n\\n\\nworld   !  \\n\"\n",
    "            \"El niño se asustó del pingüino -- qué miedo!\\n\"\n",
    "            \"El niño se asustó del pingüino -- qué miedo!\\n\"\n",
    "            \"Le garçon est très excité pour la forêt.\\n\"\n",
    "            \"Le garçon est très excité pour la forêt.\\n\"\n",
    "            \"Hello, {name}!\\n\"\n",
    "            \"Hello, world (DeWilde et al., 2021, p. 42)!\\n\"\n",
    "            \"Hello, world (1)!\\n\"\n",
    "            \"Hello, world [1]!\\n\"\n",
    "            \"Hello, world (and whomever it may concern [not that it's any of my business])!\\n\"\n",
    "            \"Hello, world (and whomever it may concern (not that it's any of my business))!\\n\"\n",
    "            \"Hello, world (and whomever it may concern [not that it's any of my business])!\\n\"\n",
    "            \"Hello, world [1]!\\n\"\n",
    "            \"Hello, world [1]!\\n\"\n",
    "            \"Hello, <i>world!</i>\\n\"\n",
    "            \"<title>Hello, world!</title>\\n\"\n",
    "            '<title class=\"foo\">Hello, world!</title>\\n'\n",
    "            \"<html><head><title>Hello, <i>world!</i></title></head></html>\\n\"\n",
    "            \"<html>\\n\"\n",
    "            \"  <head>\\n\"\n",
    "            '    <title class=\"foo\">Hello, <i>world!</i></title>\\n'\n",
    "            \"  </head>\\n\"\n",
    "            \"  <!--this is a comment-->\\n\"\n",
    "            \"  <body>\\n\"\n",
    "            \"    <p>How's it going?</p>\\n\"\n",
    "            \"  </body>\\n\"\n",
    "            \"</html>\\n\"\n",
    "            \"I can't. No, I won't! It's a matter of \\\"principle\\\"; of -- what's the word? -- conscience.\\n\"\n",
    "            \"$1.00 equals 100¢.\\n\"\n",
    "            \"How much is ¥100 in £?\\n\"\n",
    "            \"My password is 123$abc฿.\\n\"\n",
    "            \"Reach out at username@example.com.\\n\"\n",
    "            \"Click here: mailto:username@example.com.\\n\"\n",
    "            \"ugh, it's raining *again* ☔\\n\"\n",
    "            \"✌ tests are passing ✌\\n\"\n",
    "            \"like omg it's #ThrowbackThursday\\n\"\n",
    "            \"#TextacyIn4Words: \\\"but it's honest work\\\"\\n\"\n",
    "            \"wth twitter #ican'teven #why-even-try\\n\"\n",
    "            \"www.foo.com#fragment is not a hashtag\\n\"\n",
    "            \"I owe $1,000.99 to 123 people for 2 +1 reasons.\\n\"\n",
    "            \"I can be reached at 555-123-4567 through next Friday.\\n\"\n",
    "            \"I learned everything I know from www.stackoverflow.com and http://wikipedia.org/ and Mom.\\n\"\n",
    "            \"like omg it's @bjdewilde\\n\"\n",
    "            \"@Real_Burton_DeWilde: definitely not a bot\\n\"\n",
    "            \"wth twitter @b.j.dewilde\\n\"\n",
    "            \"foo@bar.com is not a user handle\"\n",
    ")\n",
    "\n",
    "pipeline_list = [preprocessing.normalize.bullet_points, \n",
    "                 preprocessing.normalize.hyphenated_words,\n",
    "                 preprocessing.normalize.quotation_marks,\n",
    "                 partial(preprocessing.normalize.repeating_chars, chars=\".\", maxn=3),\n",
    "                 partial(preprocessing.normalize.unicode, form=\"NFKC\"),\n",
    "                 preprocessing.normalize.whitespace,\n",
    "                 partial(preprocessing.remove.accents, fast=True),\n",
    "                 partial(preprocessing.remove.brackets, only=\"square\"),\n",
    "                 preprocessing.remove.html_tags,\n",
    "                 partial(preprocessing.remove.punctuation, only=\"\\\"\"),\n",
    "                 preprocessing.replace.currency_symbols,\n",
    "                 preprocessing.replace.emails,\n",
    "                 preprocessing.replace.emojis,\n",
    "                 preprocessing.replace.hashtags,\n",
    "                 preprocessing.replace.numbers,\n",
    "                 preprocessing.replace.phone_numbers,\n",
    "                 preprocessing.replace.urls,\n",
    "                 preprocessing.replace.user_handles]\n",
    "pipeline = preprocessing.make_pipeline(*pipeline_list)\n",
    "clean_text = pipeline(all_text)\n",
    "print(clean_text)"
   ]
  }
 ],
 "metadata": {
  "hide_input": false,
  "kernelspec": {
   "display_name": "nlp",
   "language": "python",
   "name": "nlp"
  },
  "language_info": {
   "codemirror_mode": {
    "name": "ipython",
    "version": 3
   },
   "file_extension": ".py",
   "mimetype": "text/x-python",
   "name": "python",
   "nbconvert_exporter": "python",
   "pygments_lexer": "ipython3",
   "version": "3.9.5"
  }
 },
 "nbformat": 4,
 "nbformat_minor": 5
}
